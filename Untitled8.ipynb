{
 "cells": [
  {
   "cell_type": "code",
   "execution_count": 6,
   "id": "c38015aa",
   "metadata": {},
   "outputs": [],
   "source": [
    "import hello"
   ]
  },
  {
   "cell_type": "code",
   "execution_count": 15,
   "id": "be4c72d8",
   "metadata": {},
   "outputs": [],
   "source": [
    "def appl(fx,value):\n",
    "    return 6 + fx(value)\n"
   ]
  },
  {
   "cell_type": "code",
   "execution_count": 16,
   "id": "a1a48b1c",
   "metadata": {},
   "outputs": [
    {
     "name": "stdout",
     "output_type": "stream",
     "text": [
      "14\n"
     ]
    }
   ],
   "source": [
    "print(appl(lambda x : x*x*x,2))"
   ]
  },
  {
   "cell_type": "code",
   "execution_count": 26,
   "id": "fa3f817f",
   "metadata": {},
   "outputs": [
    {
     "name": "stdout",
     "output_type": "stream",
     "text": [
      "[0, 3, 6, 9]\n"
     ]
    }
   ],
   "source": [
    "a=()\n",
    "lst=list(a)\n",
    "for i in range(0,10):\n",
    "    if i%3==0:\n",
    "        lst.append(i)\n",
    "print(lst)"
   ]
  },
  {
   "cell_type": "code",
   "execution_count": 2,
   "id": "27b2229f",
   "metadata": {},
   "outputs": [
    {
     "name": "stdout",
     "output_type": "stream",
     "text": [
      "[1, 8, 27, 64]\n"
     ]
    }
   ],
   "source": [
    "lst=[1,2,3,4]\n",
    "# newlst=[]\n",
    "# for i in lst:\n",
    "#     newlst.append((i**3))\n",
    "# print(newlst)"
   ]
  },
  {
   "cell_type": "code",
   "execution_count": 12,
   "id": "85c3c6c9",
   "metadata": {},
   "outputs": [
    {
     "data": {
      "text/plain": [
       "8"
      ]
     },
     "execution_count": 12,
     "metadata": {},
     "output_type": "execute_result"
    }
   ],
   "source": [
    "def cube(x):\n",
    "    return x**3\n",
    "cube(2)"
   ]
  },
  {
   "cell_type": "code",
   "execution_count": 14,
   "id": "82bf37de",
   "metadata": {},
   "outputs": [
    {
     "name": "stdout",
     "output_type": "stream",
     "text": [
      "[1, 8, 27, 64]\n"
     ]
    }
   ],
   "source": [
    "newlst = list(map(cube,lst))\n",
    "print(newlst)"
   ]
  },
  {
   "cell_type": "code",
   "execution_count": 5,
   "id": "f301aecd",
   "metadata": {},
   "outputs": [
    {
     "name": "stdout",
     "output_type": "stream",
     "text": [
      "['P', 'u', 'l', 'k', 'i', 't']\n"
     ]
    }
   ],
   "source": [
    "str1 = \"Pulkit\"\n",
    "letter = [x for x in str1]\n",
    "print(letter)"
   ]
  },
  {
   "cell_type": "code",
   "execution_count": 10,
   "id": "31ad9fcf",
   "metadata": {},
   "outputs": [
    {
     "name": "stdout",
     "output_type": "stream",
     "text": [
      "ayhdiV scitylanA\n"
     ]
    }
   ],
   "source": [
    "str1 = \"Analytics Vidhya\"\n",
    "print(str1[::-1])"
   ]
  },
  {
   "cell_type": "code",
   "execution_count": 12,
   "id": "d2c4bb1a",
   "metadata": {},
   "outputs": [
    {
     "name": "stdout",
     "output_type": "stream",
     "text": [
      "['This', 'is', 'a', 'string']\n"
     ]
    }
   ],
   "source": [
    "a = 'This is a string'\n",
    "Li = a.split(' ')\n",
    "print(Li)"
   ]
  },
  {
   "cell_type": "code",
   "execution_count": 15,
   "id": "bd64a502",
   "metadata": {},
   "outputs": [
    {
     "data": {
      "text/plain": [
       "'This is a string'"
      ]
     },
     "execution_count": 15,
     "metadata": {},
     "output_type": "execute_result"
    }
   ],
   "source": [
    "' '.join(Li)"
   ]
  },
  {
   "cell_type": "code",
   "execution_count": 16,
   "id": "e32987fa",
   "metadata": {},
   "outputs": [],
   "source": [
    "lst1 = [1,2,3,4]\n",
    "lst2=lst1"
   ]
  },
  {
   "cell_type": "code",
   "execution_count": 17,
   "id": "a29c19e8",
   "metadata": {},
   "outputs": [
    {
     "data": {
      "text/plain": [
       "([1, 2, 3, 4], [1, 2, 3, 4])"
      ]
     },
     "execution_count": 17,
     "metadata": {},
     "output_type": "execute_result"
    }
   ],
   "source": [
    "lst2 , lst1"
   ]
  },
  {
   "cell_type": "code",
   "execution_count": 18,
   "id": "6a2f2edf",
   "metadata": {},
   "outputs": [
    {
     "data": {
      "text/plain": [
       "(1935128347456, 1935128347456)"
      ]
     },
     "execution_count": 18,
     "metadata": {},
     "output_type": "execute_result"
    }
   ],
   "source": [
    "id(lst1) , id(lst2)"
   ]
  },
  {
   "cell_type": "code",
   "execution_count": 19,
   "id": "c4492439",
   "metadata": {},
   "outputs": [
    {
     "data": {
      "text/plain": [
       "([10, 2, 3, 4], [10, 2, 3, 4])"
      ]
     },
     "execution_count": 19,
     "metadata": {},
     "output_type": "execute_result"
    }
   ],
   "source": [
    "lst2[0]=10\n",
    "lst2,lst1"
   ]
  },
  {
   "cell_type": "code",
   "execution_count": 21,
   "id": "168d6d6f",
   "metadata": {},
   "outputs": [],
   "source": [
    "# Shallow copy\n",
    "lst1=[[1,2,3,4],[6,7,8,9]]\n",
    "lst2=lst1.copy()"
   ]
  },
  {
   "cell_type": "code",
   "execution_count": 23,
   "id": "210e5a4f",
   "metadata": {},
   "outputs": [
    {
     "data": {
      "text/plain": [
       "1935131005696"
      ]
     },
     "execution_count": 23,
     "metadata": {},
     "output_type": "execute_result"
    }
   ],
   "source": [
    "id(lst1)\n"
   ]
  },
  {
   "cell_type": "code",
   "execution_count": 24,
   "id": "058397b6",
   "metadata": {},
   "outputs": [
    {
     "data": {
      "text/plain": [
       "1935129019520"
      ]
     },
     "execution_count": 24,
     "metadata": {},
     "output_type": "execute_result"
    }
   ],
   "source": [
    "id(lst2)"
   ]
  },
  {
   "cell_type": "code",
   "execution_count": 25,
   "id": "54767c15",
   "metadata": {},
   "outputs": [
    {
     "data": {
      "text/plain": [
       "([[1, 2, 3, 4], [6, 7, 8, 9]], [[1, 2, 3, 4], [6, 7, 8, 9]])"
      ]
     },
     "execution_count": 25,
     "metadata": {},
     "output_type": "execute_result"
    }
   ],
   "source": [
    "lst1,lst2"
   ]
  },
  {
   "cell_type": "code",
   "execution_count": 26,
   "id": "e329e464",
   "metadata": {},
   "outputs": [
    {
     "data": {
      "text/plain": [
       "([[1, 10, 3, 4], [6, 7, 8, 9]], [[1, 10, 3, 4], [6, 7, 8, 9]])"
      ]
     },
     "execution_count": 26,
     "metadata": {},
     "output_type": "execute_result"
    }
   ],
   "source": [
    "lst1[0][1]=10\n",
    "lst1,lst2"
   ]
  },
  {
   "cell_type": "code",
   "execution_count": 27,
   "id": "7da42bc4",
   "metadata": {},
   "outputs": [
    {
     "data": {
      "text/plain": [
       "(1935131005696, 1935129019520)"
      ]
     },
     "execution_count": 27,
     "metadata": {},
     "output_type": "execute_result"
    }
   ],
   "source": [
    "id(lst1),id(lst2)"
   ]
  },
  {
   "cell_type": "code",
   "execution_count": 28,
   "id": "cde0d98b",
   "metadata": {},
   "outputs": [
    {
     "data": {
      "text/plain": [
       "(1935132531968, 1935130051264)"
      ]
     },
     "execution_count": 28,
     "metadata": {},
     "output_type": "execute_result"
    }
   ],
   "source": [
    "import copy as cp\n",
    "lt1=[[1,2,3,4],[6,7,8,9]]\n",
    "lt2=cp.deepcopy(lt1)\n",
    "id(lt1),id(lt2)"
   ]
  },
  {
   "cell_type": "code",
   "execution_count": 29,
   "id": "642c2e20",
   "metadata": {},
   "outputs": [
    {
     "data": {
      "text/plain": [
       "[[1, 2, 3, 4], [15, 7, 8, 9]]"
      ]
     },
     "execution_count": 29,
     "metadata": {},
     "output_type": "execute_result"
    }
   ],
   "source": [
    "lt1[1][0]=15\n",
    "lt1"
   ]
  },
  {
   "cell_type": "code",
   "execution_count": 30,
   "id": "d64f929d",
   "metadata": {},
   "outputs": [
    {
     "data": {
      "text/plain": [
       "[[1, 2, 3, 4], [6, 7, 8, 9]]"
      ]
     },
     "execution_count": 30,
     "metadata": {},
     "output_type": "execute_result"
    }
   ],
   "source": [
    "lt2"
   ]
  },
  {
   "cell_type": "code",
   "execution_count": 7,
   "id": "5e6ce715",
   "metadata": {},
   "outputs": [
    {
     "name": "stdout",
     "output_type": "stream",
     "text": [
      "Yes\n"
     ]
    }
   ],
   "source": [
    "def is_palindrome(st):\n",
    "    return st == st[::-1]\n",
    "\n",
    "is_palindrome(\"madam\")\n",
    "\n",
    "if is_palindrome:\n",
    "    print(\"Yes\")\n",
    "else:\n",
    "    print(\"No\")"
   ]
  },
  {
   "cell_type": "code",
   "execution_count": 8,
   "id": "c154cc64",
   "metadata": {},
   "outputs": [
    {
     "data": {
      "text/plain": [
       "15"
      ]
     },
     "execution_count": 8,
     "metadata": {},
     "output_type": "execute_result"
    }
   ],
   "source": [
    "def is_largest(lst):\n",
    "    return max(lst)\n",
    "\n",
    "is_largest([1,10,15,2])"
   ]
  },
  {
   "cell_type": "code",
   "execution_count": 9,
   "id": "b469d3ca",
   "metadata": {},
   "outputs": [
    {
     "data": {
      "text/plain": [
       "15"
      ]
     },
     "execution_count": 9,
     "metadata": {},
     "output_type": "execute_result"
    }
   ],
   "source": [
    "def is_lar(lst1):\n",
    "    largest=lst1[0]\n",
    "    for i in lst1:\n",
    "        if i > largest:\n",
    "            largest=i\n",
    "    return largest\n",
    "is_lar([1,10,15,2])"
   ]
  },
  {
   "cell_type": "code",
   "execution_count": 16,
   "id": "2647710b",
   "metadata": {},
   "outputs": [
    {
     "name": "stdout",
     "output_type": "stream",
     "text": [
      "[2]\n",
      "[2, 4]\n",
      "[2, 4, 5]\n",
      "[2, 4, 5, 6]\n",
      "[2, 4, 5, 6, 7]\n",
      "[2, 4, 5, 6, 7]\n"
     ]
    }
   ],
   "source": [
    "lst2=[2,2,4,5,6,7,6]\n",
    "res=[]\n",
    "for i in lst2:\n",
    "    if i not in res:\n",
    "        res.append(i)\n",
    "        print(res)\n",
    "print(res)"
   ]
  },
  {
   "cell_type": "code",
   "execution_count": 3,
   "id": "afa55ae5",
   "metadata": {},
   "outputs": [
    {
     "name": "stdout",
     "output_type": "stream",
     "text": [
      "\n",
      "Please wait a moment while I gather a list of all available modules...\n",
      "\n"
     ]
    },
    {
     "name": "stderr",
     "output_type": "stream",
     "text": [
      "D:\\anaconda3\\lib\\site-packages\\IPython\\kernel\\__init__.py:12: ShimWarning: The `IPython.kernel` package has been deprecated since IPython 4.0.You should import from ipykernel or jupyter_client instead.\n",
      "  warn(\"The `IPython.kernel` package has been deprecated since IPython 4.0.\"\n",
      "WARNING: AstropyDeprecationWarning: The private astropy._erfa module has been made into its own package, pyerfa, which is a dependency of astropy and can be imported directly using \"import erfa\" [astropy._erfa]\n",
      "D:\\anaconda3\\lib\\pkgutil.py:92: MatplotlibDeprecationWarning: \n",
      "The matplotlib.compat module was deprecated in Matplotlib 3.3 and will be removed two minor releases later.\n",
      "  __import__(info.name)\n",
      "D:\\anaconda3\\lib\\site-packages\\nltk\\twitter\\__init__.py:21: UserWarning: The twython library has not been installed. Some functionality from the twitter package will not be available.\n",
      "  warnings.warn(\n",
      "D:\\anaconda3\\lib\\site-packages\\skimage\\viewer\\utils\\__init__.py:1: UserWarning: Recommended matplotlib backend is `Agg` for full skimage.viewer functionality.\n",
      "  from .core import *\n",
      "D:\\anaconda3\\lib\\site-packages\\qtawesome\\iconic_font.py:313: UserWarning: You need to have a running QApplication to use QtAwesome!\n",
      "  warnings.warn(\"You need to have a running \"\n",
      "D:\\anaconda3\\lib\\pkgutil.py:107: VisibleDeprecationWarning: zmq.eventloop.minitornado is deprecated in pyzmq 14.0 and will be removed.\n",
      "    Install tornado itself to use zmq with the tornado IOLoop.\n",
      "    \n",
      "  yield from walk_packages(path, info.name+'.', onerror)\n"
     ]
    },
    {
     "name": "stdout",
     "output_type": "stream",
     "text": [
      "Cython              brain_re            logging             smtplib\n",
      "IPython             brain_responses     lxml                sndhdr\n",
      "OpenSSL             brain_scipy_signal  lzma                sniffio\n",
      "PIL                 brain_six           mailbox             snowballstemmer\n",
      "PyQt5               brain_sqlalchemy    mailcap             socket\n",
      "__future__          brain_ssl           markupsafe          socketserver\n",
      "_abc                brain_subprocess    marshal             socks\n",
      "_ast                brain_threading     math                sockshandler\n",
      "_asyncio            brain_type          matplotlib          sortedcollections\n",
      "_bisect             brain_typing        mccabe              sortedcontainers\n",
      "_black_version      brain_uuid          menuinst            soupsieve\n",
      "_blake2             brotli              mimetypes           sphinx\n",
      "_bootlocale         bs4                 mistune             sphinxcontrib\n",
      "_bz2                builtins            mkl                 spyder\n",
      "_cffi_backend       bz2                 mkl_fft             spyder_kernels\n",
      "_codecs             cProfile            mkl_random          sqlalchemy\n",
      "_codecs_cn          calendar            mmap                sqlite3\n",
      "_codecs_hk          certifi             mmapfile            sre_compile\n",
      "_codecs_iso2022     cffi                mmsystem            sre_constants\n",
      "_codecs_jp          cgi                 mock                sre_parse\n",
      "_codecs_kr          cgitb               modulefinder        ssl\n",
      "_codecs_tw          chardet             more_itertools      sspi\n",
      "_collections        chunk               mpmath              sspicon\n",
      "_collections_abc    click               msgpack             stat\n",
      "_compat_pickle      cloudpickle         msilib              statistics\n",
      "_compression        clyent              msvcrt              statsmodels\n",
      "_contextvars        cmath               multipledispatch    storemagic\n",
      "_csv                cmd                 multiprocessing     string\n",
      "_ctypes             code                mypy_extensions     stringprep\n",
      "_ctypes_test        codecs              nacl                struct\n",
      "_datetime           codeop              navigator_updater   subprocess\n",
      "_decimal            collections         nbclassic           sunau\n",
      "_distutils_hack     colorama            nbclient            symbol\n",
      "_dummy_thread       colorsys            nbconvert           sympy\n",
      "_elementtree        commctrl            nbformat            sympyprinting\n",
      "_functools          compileall          nest_asyncio        symtable\n",
      "_hashlib            comtypes            netbios             sys\n",
      "_heapq              concurrent          netrc               sysconfig\n",
      "_imp                conda               networkx            tables\n",
      "_io                 conda_build         nltk                tabnanny\n",
      "_json               conda_content_trust nntplib             tarfile\n",
      "_locale             conda_env           nose                tblib\n",
      "_lsprof             conda_package_handling notebook            telnetlib\n",
      "_lzma               conda_package_streaming nt                  tempfile\n",
      "_markupbase         conda_token         ntpath              terminado\n",
      "_md5                conda_verify        ntsecuritycon       test\n",
      "_msi                configparser        nturl2path          test_data\n",
      "_multibytecodec     contextlib          numba               test_pycosat\n",
      "_multiprocessing    contextlib2         numbers             testpath\n",
      "_nsis               contextvars         numexpr             tests\n",
      "_opcode             copy                numpy               textdistance\n",
      "_operator           copyreg             numpydoc            textwrap\n",
      "_osx_support        crypt               odbc                this\n",
      "_overlapped         cryptography        olefile             threading\n",
      "_pickle             csv                 opcode              threadpoolctl\n",
      "_py_abc             ctypes              openpyxl            three_merge\n",
      "_pydecimal          curl                operator            tifffile\n",
      "_pyio               curses              optparse            time\n",
      "_pyrsistent_version cwp                 os                  timeit\n",
      "_pytest             cycler              packaging           timer\n",
      "_queue              cython              pandas              tkinter\n",
      "_random             cythonmagic         pandocfilters       tlz\n",
      "_sha1               cytoolz             paramiko            token\n",
      "_sha256             dask                parser              tokenize\n",
      "_sha3               dataclasses         parso               toml\n",
      "_sha512             datetime            partd               toolz\n",
      "_signal             dateutil            past                tornado\n",
      "_sitebuiltins       dbi                 path                tqdm\n",
      "_socket             dbm                 pathlib             trace\n",
      "_sqlite3            dde                 pathlib2            traceback\n",
      "_sre                decimal             pathspec            tracemalloc\n",
      "_ssl                decorator           patsy               traitlets\n",
      "_stat               defusedxml          pdb                 tty\n",
      "_statistics         diff_match_patch    pep8                turtle\n",
      "_string             difflib             perfmon             turtledemo\n",
      "_strptime           dis                 pexpect             typed_ast\n",
      "_struct             distributed         pickle              types\n",
      "_symtable           distutils           pickleshare         typing\n",
      "_system_path        doctest             pickletools         typing_extensions\n",
      "_testbuffer         docutils            pip                 ujson\n",
      "_testcapi           dummy_threading     pipes               unicodecsv\n",
      "_testconsole        email               pkg_resources       unicodedata\n",
      "_testimportmultiple encodings           pkginfo             unittest\n",
      "_testinternalcapi   ensurepip           pkgutil             urllib\n",
      "_testmultiphase     entrypoints         platform            urllib3\n",
      "_thread             enum                plistlib            utils\n",
      "_threading_local    erfa                pluggy              uu\n",
      "_tkinter            errno               ply                 uuid\n",
      "_tracemalloc        et_xmlfile          poplib              venv\n",
      "_warnings           fastcache           posixpath           warnings\n",
      "_weakref            faulthandler        pprint              watchdog\n",
      "_weakrefset         filecmp             profile             wave\n",
      "_win32sysloader     fileinput           prometheus_client   wcwidth\n",
      "_winapi             filelock            prompt_toolkit      weakref\n",
      "_winxptheme         flake8              pstats              webbrowser\n",
      "_xxsubinterpreters  flask               psutil              webencodings\n",
      "_yaml               fnmatch             pty                 werkzeug\n",
      "abc                 formatter           ptyprocess          wheel\n",
      "adodbapi            fractions           pvectorc            widgetsnbextension\n",
      "afxres              fsspec              py                  win2kras\n",
      "aifc                ftplib              py_compile          win32api\n",
      "alabaster           functools           pyclbr              win32clipboard\n",
      "anaconda_navigator  future              pycodestyle         win32com\n",
      "anaconda_project    gc                  pycosat             win32con\n",
      "antigravity         genericpath         pycparser           win32console\n",
      "anyio               getopt              pycurl              win32cred\n",
      "appdirs             getpass             pydoc               win32crypt\n",
      "argh                gettext             pydoc_data          win32cryptcon\n",
      "argon2              gevent              pydocstyle          win32ctypes\n",
      "argparse            glob                pyexpat             win32event\n",
      "array               glob2               pyflakes            win32evtlog\n",
      "asn1crypto          greenlet            pygments            win32evtlogutil\n",
      "ast                 gzip                pylab               win32file\n",
      "astroid             h5py                pylint              win32gui\n",
      "astropy             hashlib             pyls                win32gui_struct\n",
      "async_generator     heapdict            pyls_black          win32help\n",
      "asynchat            heapq               pyls_jsonrpc        win32inet\n",
      "asyncio             hello               pyls_spyder         win32inetcon\n"
     ]
    },
    {
     "name": "stdout",
     "output_type": "stream",
     "text": [
      "asyncore            hmac                pyodbc              win32job\n",
      "atexit              html                pyparsing           win32lz\n",
      "atomicwrites        html5lib            pyreadline          win32net\n",
      "attr                http                pyrsistent          win32netcon\n",
      "audioop             idlelib             pytest              win32pdh\n",
      "autopep8            idna                pythoncom           win32pdhquery\n",
      "autoreload          imagecodecs         pytz                win32pdhutil\n",
      "babel               imageio             pywin               win32pipe\n",
      "backcall            imagesize           pywin32_bootstrap   win32print\n",
      "backports           imaplib             pywin32_testutil    win32process\n",
      "base64              imghdr              pywintypes          win32profile\n",
      "bcrypt              imp                 pywt                win32ras\n",
      "bdb                 importlib           pyximport           win32rcparser\n",
      "binascii            importlib_metadata  qdarkstyle          win32security\n",
      "binhex              iniconfig           qtawesome           win32service\n",
      "binstar_client      inspect             qtconsole           win32serviceutil\n",
      "bisect              intervaltree        qtpy                win32timezone\n",
      "bitarray            io                  queue               win32trace\n",
      "bkcharts            ipaddress           quopri              win32traceutil\n",
      "black               ipykernel           random              win32transaction\n",
      "blackd              ipykernel_launcher  rasutil             win32ts\n",
      "bleach              ipython_genutils    re                  win32ui\n",
      "blib2to3            ipywidgets          readline            win32uiole\n",
      "bokeh               isapi               regcheck            win32verstamp\n",
      "boto                isort               regex               win32wnet\n",
      "bottleneck          isympy              regutil             win_inet_pton\n",
      "brain_argparse      itertools           repo_cli            win_unicode_console\n",
      "brain_attrs         itsdangerous        reprlib             wincertstore\n",
      "brain_boto3         jdcal               requests            winerror\n",
      "brain_builtin_inference jedi                rlcompleter         winioctlcon\n",
      "brain_collections   jinja2              rmagic              winnt\n",
      "brain_crypt         joblib              rope                winperf\n",
      "brain_curses        json                rtree               winpty\n",
      "brain_dataclasses   json5               ruamel_yaml         winreg\n",
      "brain_dateutil      jsonschema          run                 winsound\n",
      "brain_fstrings      jupyter             runpy               winxpgui\n",
      "brain_functools     jupyter_client      sched               winxptheme\n",
      "brain_gi            jupyter_console     scipy               wrapt\n",
      "brain_hashlib       jupyter_core        seaborn             wsgiref\n",
      "brain_http          jupyter_packaging   secrets             xdrlib\n",
      "brain_hypothesis    jupyter_server      select              xlrd\n",
      "brain_io            jupyterlab          selectors           xlsxwriter\n",
      "brain_mechanize     jupyterlab_pygments send2trash          xlwings\n",
      "brain_multiprocessing jupyterlab_server   servicemanager      xlwt\n",
      "brain_namedtuple_enum jupyterlab_widgets  setuptools          xml\n",
      "brain_nose          jwt                 shelve              xmlrpc\n",
      "brain_numpy_core_fromnumeric keyring             shlex               xxsubtype\n",
      "brain_numpy_core_function_base keyword             shutil              yaml\n",
      "brain_numpy_core_multiarray kiwisolver          signal              yapf\n",
      "brain_numpy_core_numeric lazy_object_proxy   simplegeneric       yapftests\n",
      "brain_numpy_core_numerictypes lib2to3             singledispatch      zict\n",
      "brain_numpy_core_umath libarchive          sip                 zipapp\n",
      "brain_numpy_ndarray libfuturize         sipconfig           zipfile\n",
      "brain_numpy_random_mtrand libpasteurize       sipdistutils        zipimport\n",
      "brain_numpy_utils   lief                site                zipp\n",
      "brain_pkg_resources linecache           six                 zlib\n",
      "brain_pytest        llvmlite            skimage             zmq\n",
      "brain_qt            locale              sklearn             zope\n",
      "brain_random        locket              smtpd               zstandard\n",
      "\n",
      "Enter any module name to get more help.  Or, type \"modules spam\" to search\n",
      "for modules whose name or summary contain the string \"spam\".\n",
      "\n"
     ]
    }
   ],
   "source": [
    "help('modules')"
   ]
  },
  {
   "cell_type": "code",
   "execution_count": 5,
   "id": "54471022",
   "metadata": {},
   "outputs": [
    {
     "data": {
      "text/plain": [
       "['D:\\\\anaconda3\\\\lib\\\\site-packages\\\\spyder\\\\plugins\\\\help\\\\utils',\n",
       " 'C:\\\\Users',\n",
       " 'C:\\\\Users\\\\HP',\n",
       " 'D:\\\\anaconda3\\\\python38.zip',\n",
       " 'D:\\\\anaconda3\\\\DLLs',\n",
       " 'D:\\\\anaconda3\\\\lib',\n",
       " 'D:\\\\anaconda3',\n",
       " '',\n",
       " 'D:\\\\anaconda3\\\\lib\\\\site-packages',\n",
       " 'D:\\\\anaconda3\\\\lib\\\\site-packages\\\\locket-0.2.1-py3.8.egg',\n",
       " 'D:\\\\anaconda3\\\\lib\\\\site-packages\\\\win32',\n",
       " 'D:\\\\anaconda3\\\\lib\\\\site-packages\\\\win32\\\\lib',\n",
       " 'D:\\\\anaconda3\\\\lib\\\\site-packages\\\\Pythonwin',\n",
       " 'D:\\\\anaconda3\\\\lib\\\\site-packages\\\\IPython\\\\extensions',\n",
       " 'C:\\\\Users\\\\HP\\\\.ipython',\n",
       " 'D:\\\\anaconda3\\\\lib\\\\site-packages\\\\astroid\\\\brain']"
      ]
     },
     "execution_count": 5,
     "metadata": {},
     "output_type": "execute_result"
    }
   ],
   "source": [
    "import sys\n",
    "sys.path"
   ]
  },
  {
   "cell_type": "code",
   "execution_count": null,
   "id": "530a0fa2",
   "metadata": {},
   "outputs": [],
   "source": []
  }
 ],
 "metadata": {
  "kernelspec": {
   "display_name": "Python 3",
   "language": "python",
   "name": "python3"
  },
  "language_info": {
   "codemirror_mode": {
    "name": "ipython",
    "version": 3
   },
   "file_extension": ".py",
   "mimetype": "text/x-python",
   "name": "python",
   "nbconvert_exporter": "python",
   "pygments_lexer": "ipython3",
   "version": "3.8.8"
  }
 },
 "nbformat": 4,
 "nbformat_minor": 5
}
